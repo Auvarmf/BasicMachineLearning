{
  "nbformat": 4,
  "nbformat_minor": 0,
  "metadata": {
    "colab": {
      "provenance": [],
      "authorship_tag": "ABX9TyP/emo3JiywfNdYyb+rWukd",
      "include_colab_link": true
    },
    "kernelspec": {
      "name": "python3",
      "display_name": "Python 3"
    },
    "language_info": {
      "name": "python"
    }
  },
  "cells": [
    {
      "cell_type": "markdown",
      "metadata": {
        "id": "view-in-github",
        "colab_type": "text"
      },
      "source": [
        "<a href=\"https://colab.research.google.com/github/Auvarmf/BasicMachineLearning/blob/main/PERTEMUAN13_AuvarMahsaFahlevi_2117051027.ipynb\" target=\"_parent\"><img src=\"https://colab.research.google.com/assets/colab-badge.svg\" alt=\"Open In Colab\"/></a>"
      ]
    },
    {
      "cell_type": "markdown",
      "source": [
        "# Support Vector Machine (SVM)"
      ],
      "metadata": {
        "id": "SkvJOTYJ0g7-"
      }
    },
    {
      "cell_type": "markdown",
      "source": [
        "## Library"
      ],
      "metadata": {
        "id": "kIcFDRmn0zfQ"
      }
    },
    {
      "cell_type": "code",
      "execution_count": 17,
      "metadata": {
        "id": "LEkNyiHJ0d9s"
      },
      "outputs": [],
      "source": [
        "import pandas as pd\n",
        "import numpy as np\n",
        "import matplotlib.pyplot as plt\n",
        "import seaborn as sns\n",
        "from sklearn import svm\n",
        "from sklearn.model_selection import cross_val_score, train_test_split\n",
        "from sklearn.metrics import confusion_matrix"
      ]
    },
    {
      "cell_type": "markdown",
      "source": [
        "## Load Data"
      ],
      "metadata": {
        "id": "8aIaSEY603__"
      }
    },
    {
      "cell_type": "code",
      "source": [
        "df = pd.read_csv(\"https://raw.githubusercontent.com/rahmantaufik27/dataset/main/study/iris.csv\")\n",
        "df.head()"
      ],
      "metadata": {
        "colab": {
          "base_uri": "https://localhost:8080/",
          "height": 206
        },
        "id": "UhtyBjSh05ix",
        "outputId": "c47def3a-d63a-43f8-c449-fede7b2535f9"
      },
      "execution_count": 18,
      "outputs": [
        {
          "output_type": "execute_result",
          "data": {
            "text/plain": [
              "   sepal.length  sepal.width  petal.length  petal.width variety\n",
              "0           5.1          3.5           1.4          0.2  Setosa\n",
              "1           4.9          3.0           1.4          0.2  Setosa\n",
              "2           4.7          3.2           1.3          0.2  Setosa\n",
              "3           4.6          3.1           1.5          0.2  Setosa\n",
              "4           5.0          3.6           1.4          0.2  Setosa"
            ],
            "text/html": [
              "\n",
              "  <div id=\"df-f75206b1-69ab-4095-adf8-54c0e465e1f9\">\n",
              "    <div class=\"colab-df-container\">\n",
              "      <div>\n",
              "<style scoped>\n",
              "    .dataframe tbody tr th:only-of-type {\n",
              "        vertical-align: middle;\n",
              "    }\n",
              "\n",
              "    .dataframe tbody tr th {\n",
              "        vertical-align: top;\n",
              "    }\n",
              "\n",
              "    .dataframe thead th {\n",
              "        text-align: right;\n",
              "    }\n",
              "</style>\n",
              "<table border=\"1\" class=\"dataframe\">\n",
              "  <thead>\n",
              "    <tr style=\"text-align: right;\">\n",
              "      <th></th>\n",
              "      <th>sepal.length</th>\n",
              "      <th>sepal.width</th>\n",
              "      <th>petal.length</th>\n",
              "      <th>petal.width</th>\n",
              "      <th>variety</th>\n",
              "    </tr>\n",
              "  </thead>\n",
              "  <tbody>\n",
              "    <tr>\n",
              "      <th>0</th>\n",
              "      <td>5.1</td>\n",
              "      <td>3.5</td>\n",
              "      <td>1.4</td>\n",
              "      <td>0.2</td>\n",
              "      <td>Setosa</td>\n",
              "    </tr>\n",
              "    <tr>\n",
              "      <th>1</th>\n",
              "      <td>4.9</td>\n",
              "      <td>3.0</td>\n",
              "      <td>1.4</td>\n",
              "      <td>0.2</td>\n",
              "      <td>Setosa</td>\n",
              "    </tr>\n",
              "    <tr>\n",
              "      <th>2</th>\n",
              "      <td>4.7</td>\n",
              "      <td>3.2</td>\n",
              "      <td>1.3</td>\n",
              "      <td>0.2</td>\n",
              "      <td>Setosa</td>\n",
              "    </tr>\n",
              "    <tr>\n",
              "      <th>3</th>\n",
              "      <td>4.6</td>\n",
              "      <td>3.1</td>\n",
              "      <td>1.5</td>\n",
              "      <td>0.2</td>\n",
              "      <td>Setosa</td>\n",
              "    </tr>\n",
              "    <tr>\n",
              "      <th>4</th>\n",
              "      <td>5.0</td>\n",
              "      <td>3.6</td>\n",
              "      <td>1.4</td>\n",
              "      <td>0.2</td>\n",
              "      <td>Setosa</td>\n",
              "    </tr>\n",
              "  </tbody>\n",
              "</table>\n",
              "</div>\n",
              "      <button class=\"colab-df-convert\" onclick=\"convertToInteractive('df-f75206b1-69ab-4095-adf8-54c0e465e1f9')\"\n",
              "              title=\"Convert this dataframe to an interactive table.\"\n",
              "              style=\"display:none;\">\n",
              "        \n",
              "  <svg xmlns=\"http://www.w3.org/2000/svg\" height=\"24px\"viewBox=\"0 0 24 24\"\n",
              "       width=\"24px\">\n",
              "    <path d=\"M0 0h24v24H0V0z\" fill=\"none\"/>\n",
              "    <path d=\"M18.56 5.44l.94 2.06.94-2.06 2.06-.94-2.06-.94-.94-2.06-.94 2.06-2.06.94zm-11 1L8.5 8.5l.94-2.06 2.06-.94-2.06-.94L8.5 2.5l-.94 2.06-2.06.94zm10 10l.94 2.06.94-2.06 2.06-.94-2.06-.94-.94-2.06-.94 2.06-2.06.94z\"/><path d=\"M17.41 7.96l-1.37-1.37c-.4-.4-.92-.59-1.43-.59-.52 0-1.04.2-1.43.59L10.3 9.45l-7.72 7.72c-.78.78-.78 2.05 0 2.83L4 21.41c.39.39.9.59 1.41.59.51 0 1.02-.2 1.41-.59l7.78-7.78 2.81-2.81c.8-.78.8-2.07 0-2.86zM5.41 20L4 18.59l7.72-7.72 1.47 1.35L5.41 20z\"/>\n",
              "  </svg>\n",
              "      </button>\n",
              "      \n",
              "  <style>\n",
              "    .colab-df-container {\n",
              "      display:flex;\n",
              "      flex-wrap:wrap;\n",
              "      gap: 12px;\n",
              "    }\n",
              "\n",
              "    .colab-df-convert {\n",
              "      background-color: #E8F0FE;\n",
              "      border: none;\n",
              "      border-radius: 50%;\n",
              "      cursor: pointer;\n",
              "      display: none;\n",
              "      fill: #1967D2;\n",
              "      height: 32px;\n",
              "      padding: 0 0 0 0;\n",
              "      width: 32px;\n",
              "    }\n",
              "\n",
              "    .colab-df-convert:hover {\n",
              "      background-color: #E2EBFA;\n",
              "      box-shadow: 0px 1px 2px rgba(60, 64, 67, 0.3), 0px 1px 3px 1px rgba(60, 64, 67, 0.15);\n",
              "      fill: #174EA6;\n",
              "    }\n",
              "\n",
              "    [theme=dark] .colab-df-convert {\n",
              "      background-color: #3B4455;\n",
              "      fill: #D2E3FC;\n",
              "    }\n",
              "\n",
              "    [theme=dark] .colab-df-convert:hover {\n",
              "      background-color: #434B5C;\n",
              "      box-shadow: 0px 1px 3px 1px rgba(0, 0, 0, 0.15);\n",
              "      filter: drop-shadow(0px 1px 2px rgba(0, 0, 0, 0.3));\n",
              "      fill: #FFFFFF;\n",
              "    }\n",
              "  </style>\n",
              "\n",
              "      <script>\n",
              "        const buttonEl =\n",
              "          document.querySelector('#df-f75206b1-69ab-4095-adf8-54c0e465e1f9 button.colab-df-convert');\n",
              "        buttonEl.style.display =\n",
              "          google.colab.kernel.accessAllowed ? 'block' : 'none';\n",
              "\n",
              "        async function convertToInteractive(key) {\n",
              "          const element = document.querySelector('#df-f75206b1-69ab-4095-adf8-54c0e465e1f9');\n",
              "          const dataTable =\n",
              "            await google.colab.kernel.invokeFunction('convertToInteractive',\n",
              "                                                     [key], {});\n",
              "          if (!dataTable) return;\n",
              "\n",
              "          const docLinkHtml = 'Like what you see? Visit the ' +\n",
              "            '<a target=\"_blank\" href=https://colab.research.google.com/notebooks/data_table.ipynb>data table notebook</a>'\n",
              "            + ' to learn more about interactive tables.';\n",
              "          element.innerHTML = '';\n",
              "          dataTable['output_type'] = 'display_data';\n",
              "          await google.colab.output.renderOutput(dataTable, element);\n",
              "          const docLink = document.createElement('div');\n",
              "          docLink.innerHTML = docLinkHtml;\n",
              "          element.appendChild(docLink);\n",
              "        }\n",
              "      </script>\n",
              "    </div>\n",
              "  </div>\n",
              "  "
            ]
          },
          "metadata": {},
          "execution_count": 18
        }
      ]
    },
    {
      "cell_type": "markdown",
      "source": [
        "## EDA"
      ],
      "metadata": {
        "id": "pClfigsH1LJn"
      }
    },
    {
      "cell_type": "code",
      "source": [
        "df.info()"
      ],
      "metadata": {
        "colab": {
          "base_uri": "https://localhost:8080/"
        },
        "id": "dc8P5X6A1NaS",
        "outputId": "332e02e9-3b9c-4d22-e85d-cfa81788f4bb"
      },
      "execution_count": 19,
      "outputs": [
        {
          "output_type": "stream",
          "name": "stdout",
          "text": [
            "<class 'pandas.core.frame.DataFrame'>\n",
            "RangeIndex: 150 entries, 0 to 149\n",
            "Data columns (total 5 columns):\n",
            " #   Column        Non-Null Count  Dtype  \n",
            "---  ------        --------------  -----  \n",
            " 0   sepal.length  150 non-null    float64\n",
            " 1   sepal.width   150 non-null    float64\n",
            " 2   petal.length  150 non-null    float64\n",
            " 3   petal.width   150 non-null    float64\n",
            " 4   variety       150 non-null    object \n",
            "dtypes: float64(4), object(1)\n",
            "memory usage: 6.0+ KB\n"
          ]
        }
      ]
    },
    {
      "cell_type": "code",
      "source": [
        "df.describe()"
      ],
      "metadata": {
        "colab": {
          "base_uri": "https://localhost:8080/",
          "height": 300
        },
        "id": "oSxrBUfI1QUc",
        "outputId": "ccea6e00-888e-4144-833a-3b38556b755d"
      },
      "execution_count": 20,
      "outputs": [
        {
          "output_type": "execute_result",
          "data": {
            "text/plain": [
              "       sepal.length  sepal.width  petal.length  petal.width\n",
              "count    150.000000   150.000000    150.000000   150.000000\n",
              "mean       5.843333     3.057333      3.758000     1.199333\n",
              "std        0.828066     0.435866      1.765298     0.762238\n",
              "min        4.300000     2.000000      1.000000     0.100000\n",
              "25%        5.100000     2.800000      1.600000     0.300000\n",
              "50%        5.800000     3.000000      4.350000     1.300000\n",
              "75%        6.400000     3.300000      5.100000     1.800000\n",
              "max        7.900000     4.400000      6.900000     2.500000"
            ],
            "text/html": [
              "\n",
              "  <div id=\"df-8fac348c-34bb-42c6-9862-8d7039b7024b\">\n",
              "    <div class=\"colab-df-container\">\n",
              "      <div>\n",
              "<style scoped>\n",
              "    .dataframe tbody tr th:only-of-type {\n",
              "        vertical-align: middle;\n",
              "    }\n",
              "\n",
              "    .dataframe tbody tr th {\n",
              "        vertical-align: top;\n",
              "    }\n",
              "\n",
              "    .dataframe thead th {\n",
              "        text-align: right;\n",
              "    }\n",
              "</style>\n",
              "<table border=\"1\" class=\"dataframe\">\n",
              "  <thead>\n",
              "    <tr style=\"text-align: right;\">\n",
              "      <th></th>\n",
              "      <th>sepal.length</th>\n",
              "      <th>sepal.width</th>\n",
              "      <th>petal.length</th>\n",
              "      <th>petal.width</th>\n",
              "    </tr>\n",
              "  </thead>\n",
              "  <tbody>\n",
              "    <tr>\n",
              "      <th>count</th>\n",
              "      <td>150.000000</td>\n",
              "      <td>150.000000</td>\n",
              "      <td>150.000000</td>\n",
              "      <td>150.000000</td>\n",
              "    </tr>\n",
              "    <tr>\n",
              "      <th>mean</th>\n",
              "      <td>5.843333</td>\n",
              "      <td>3.057333</td>\n",
              "      <td>3.758000</td>\n",
              "      <td>1.199333</td>\n",
              "    </tr>\n",
              "    <tr>\n",
              "      <th>std</th>\n",
              "      <td>0.828066</td>\n",
              "      <td>0.435866</td>\n",
              "      <td>1.765298</td>\n",
              "      <td>0.762238</td>\n",
              "    </tr>\n",
              "    <tr>\n",
              "      <th>min</th>\n",
              "      <td>4.300000</td>\n",
              "      <td>2.000000</td>\n",
              "      <td>1.000000</td>\n",
              "      <td>0.100000</td>\n",
              "    </tr>\n",
              "    <tr>\n",
              "      <th>25%</th>\n",
              "      <td>5.100000</td>\n",
              "      <td>2.800000</td>\n",
              "      <td>1.600000</td>\n",
              "      <td>0.300000</td>\n",
              "    </tr>\n",
              "    <tr>\n",
              "      <th>50%</th>\n",
              "      <td>5.800000</td>\n",
              "      <td>3.000000</td>\n",
              "      <td>4.350000</td>\n",
              "      <td>1.300000</td>\n",
              "    </tr>\n",
              "    <tr>\n",
              "      <th>75%</th>\n",
              "      <td>6.400000</td>\n",
              "      <td>3.300000</td>\n",
              "      <td>5.100000</td>\n",
              "      <td>1.800000</td>\n",
              "    </tr>\n",
              "    <tr>\n",
              "      <th>max</th>\n",
              "      <td>7.900000</td>\n",
              "      <td>4.400000</td>\n",
              "      <td>6.900000</td>\n",
              "      <td>2.500000</td>\n",
              "    </tr>\n",
              "  </tbody>\n",
              "</table>\n",
              "</div>\n",
              "      <button class=\"colab-df-convert\" onclick=\"convertToInteractive('df-8fac348c-34bb-42c6-9862-8d7039b7024b')\"\n",
              "              title=\"Convert this dataframe to an interactive table.\"\n",
              "              style=\"display:none;\">\n",
              "        \n",
              "  <svg xmlns=\"http://www.w3.org/2000/svg\" height=\"24px\"viewBox=\"0 0 24 24\"\n",
              "       width=\"24px\">\n",
              "    <path d=\"M0 0h24v24H0V0z\" fill=\"none\"/>\n",
              "    <path d=\"M18.56 5.44l.94 2.06.94-2.06 2.06-.94-2.06-.94-.94-2.06-.94 2.06-2.06.94zm-11 1L8.5 8.5l.94-2.06 2.06-.94-2.06-.94L8.5 2.5l-.94 2.06-2.06.94zm10 10l.94 2.06.94-2.06 2.06-.94-2.06-.94-.94-2.06-.94 2.06-2.06.94z\"/><path d=\"M17.41 7.96l-1.37-1.37c-.4-.4-.92-.59-1.43-.59-.52 0-1.04.2-1.43.59L10.3 9.45l-7.72 7.72c-.78.78-.78 2.05 0 2.83L4 21.41c.39.39.9.59 1.41.59.51 0 1.02-.2 1.41-.59l7.78-7.78 2.81-2.81c.8-.78.8-2.07 0-2.86zM5.41 20L4 18.59l7.72-7.72 1.47 1.35L5.41 20z\"/>\n",
              "  </svg>\n",
              "      </button>\n",
              "      \n",
              "  <style>\n",
              "    .colab-df-container {\n",
              "      display:flex;\n",
              "      flex-wrap:wrap;\n",
              "      gap: 12px;\n",
              "    }\n",
              "\n",
              "    .colab-df-convert {\n",
              "      background-color: #E8F0FE;\n",
              "      border: none;\n",
              "      border-radius: 50%;\n",
              "      cursor: pointer;\n",
              "      display: none;\n",
              "      fill: #1967D2;\n",
              "      height: 32px;\n",
              "      padding: 0 0 0 0;\n",
              "      width: 32px;\n",
              "    }\n",
              "\n",
              "    .colab-df-convert:hover {\n",
              "      background-color: #E2EBFA;\n",
              "      box-shadow: 0px 1px 2px rgba(60, 64, 67, 0.3), 0px 1px 3px 1px rgba(60, 64, 67, 0.15);\n",
              "      fill: #174EA6;\n",
              "    }\n",
              "\n",
              "    [theme=dark] .colab-df-convert {\n",
              "      background-color: #3B4455;\n",
              "      fill: #D2E3FC;\n",
              "    }\n",
              "\n",
              "    [theme=dark] .colab-df-convert:hover {\n",
              "      background-color: #434B5C;\n",
              "      box-shadow: 0px 1px 3px 1px rgba(0, 0, 0, 0.15);\n",
              "      filter: drop-shadow(0px 1px 2px rgba(0, 0, 0, 0.3));\n",
              "      fill: #FFFFFF;\n",
              "    }\n",
              "  </style>\n",
              "\n",
              "      <script>\n",
              "        const buttonEl =\n",
              "          document.querySelector('#df-8fac348c-34bb-42c6-9862-8d7039b7024b button.colab-df-convert');\n",
              "        buttonEl.style.display =\n",
              "          google.colab.kernel.accessAllowed ? 'block' : 'none';\n",
              "\n",
              "        async function convertToInteractive(key) {\n",
              "          const element = document.querySelector('#df-8fac348c-34bb-42c6-9862-8d7039b7024b');\n",
              "          const dataTable =\n",
              "            await google.colab.kernel.invokeFunction('convertToInteractive',\n",
              "                                                     [key], {});\n",
              "          if (!dataTable) return;\n",
              "\n",
              "          const docLinkHtml = 'Like what you see? Visit the ' +\n",
              "            '<a target=\"_blank\" href=https://colab.research.google.com/notebooks/data_table.ipynb>data table notebook</a>'\n",
              "            + ' to learn more about interactive tables.';\n",
              "          element.innerHTML = '';\n",
              "          dataTable['output_type'] = 'display_data';\n",
              "          await google.colab.output.renderOutput(dataTable, element);\n",
              "          const docLink = document.createElement('div');\n",
              "          docLink.innerHTML = docLinkHtml;\n",
              "          element.appendChild(docLink);\n",
              "        }\n",
              "      </script>\n",
              "    </div>\n",
              "  </div>\n",
              "  "
            ]
          },
          "metadata": {},
          "execution_count": 20
        }
      ]
    },
    {
      "cell_type": "markdown",
      "source": [
        "## Preprocessing"
      ],
      "metadata": {
        "id": "QVpSxq1i1Y8W"
      }
    },
    {
      "cell_type": "code",
      "source": [
        "# Ubah variety menjadi tipe data number (secara konteks tetap categorical)\n",
        "df = df.replace({\"variety\": {\"Setosa\":1, \"Versicolor\":2, \"Virginica\":3}})\n",
        "\n",
        "# Visualize the new dataset\n",
        "print(df['variety'].unique())"
      ],
      "metadata": {
        "colab": {
          "base_uri": "https://localhost:8080/"
        },
        "id": "wvVEaDaO1cXk",
        "outputId": "f88f9154-74b9-409e-e92a-deb6cb4bff8f"
      },
      "execution_count": 21,
      "outputs": [
        {
          "output_type": "stream",
          "name": "stdout",
          "text": [
            "[1 2 3]\n"
          ]
        }
      ]
    },
    {
      "cell_type": "code",
      "source": [
        "# Transform data sebagai correlation visualization\n",
        "plt.figure(1)\n",
        "sns.heatmap(df.corr())\n",
        "plt.title('Correlation on iris classes')"
      ],
      "metadata": {
        "colab": {
          "base_uri": "https://localhost:8080/",
          "height": 542
        },
        "id": "eKiq7Wzy1fgw",
        "outputId": "6716be0c-3485-451a-f94d-8db4a1d5e2ce"
      },
      "execution_count": 22,
      "outputs": [
        {
          "output_type": "execute_result",
          "data": {
            "text/plain": [
              "Text(0.5, 1.0, 'Correlation on iris classes')"
            ]
          },
          "metadata": {},
          "execution_count": 22
        },
        {
          "output_type": "display_data",
          "data": {
            "text/plain": [
              "<Figure size 640x480 with 2 Axes>"
            ],
            "image/png": "[encoded data removed]"
          },
          "metadata": {}
        }
      ]
    },
    {
      "cell_type": "code",
      "source": [
        "# Split data menjadi data feature (X) dan data target (y)\n",
        "X = df.iloc[:, :-1]\n",
        "y = df.iloc[:, -1].values\n",
        "X_train, X_test, y_train, y_test = train_test_split(X, y, test_size=0.2, random_state=0)"
      ],
      "metadata": {
        "id": "vsAKOVbV11rh"
      },
      "execution_count": 23,
      "outputs": []
    },
    {
      "cell_type": "markdown",
      "source": [
        "## Modeling"
      ],
      "metadata": {
        "id": "fQix4tU915A5"
      }
    },
    {
      "cell_type": "code",
      "source": [
        "classifier = svm.SVC(kernel='linear', random_state=0)"
      ],
      "metadata": {
        "id": "i8Z0Dxjr18xg"
      },
      "execution_count": 24,
      "outputs": []
    },
    {
      "cell_type": "code",
      "source": [
        "# Fitting model\n",
        "classifier.fit(X_train, y_train)"
      ],
      "metadata": {
        "colab": {
          "base_uri": "https://localhost:8080/",
          "height": 75
        },
        "id": "pa_oJUp-1_EL",
        "outputId": "948dc4fc-784c-47ab-8ee6-d3a99ad556e0"
      },
      "execution_count": 25,
      "outputs": [
        {
          "output_type": "execute_result",
          "data": {
            "text/plain": [
              "SVC(kernel='linear', random_state=0)"
            ],
            "text/html": [
              "<style>#sk-container-id-2 {color: black;background-color: white;}#sk-container-id-2 pre{padding: 0;}#sk-container-id-2 div.sk-toggleable {background-color: white;}#sk-container-id-2 label.sk-toggleable__label {cursor: pointer;display: block;width: 100%;margin-bottom: 0;padding: 0.3em;box-sizing: border-box;text-align: center;}#sk-container-id-2 label.sk-toggleable__label-arrow:before {content: \"▸\";float: left;margin-right: 0.25em;color: #696969;}#sk-container-id-2 label.sk-toggleable__label-arrow:hover:before {color: black;}#sk-container-id-2 div.sk-estimator:hover label.sk-toggleable__label-arrow:before {color: black;}#sk-container-id-2 div.sk-toggleable__content {max-height: 0;max-width: 0;overflow: hidden;text-align: left;background-color: #f0f8ff;}#sk-container-id-2 div.sk-toggleable__content pre {margin: 0.2em;color: black;border-radius: 0.25em;background-color: #f0f8ff;}#sk-container-id-2 input.sk-toggleable__control:checked~div.sk-toggleable__content {max-height: 200px;max-width: 100%;overflow: auto;}#sk-container-id-2 input.sk-toggleable__control:checked~label.sk-toggleable__label-arrow:before {content: \"▾\";}#sk-container-id-2 div.sk-estimator input.sk-toggleable__control:checked~label.sk-toggleable__label {background-color: #d4ebff;}#sk-container-id-2 div.sk-label input.sk-toggleable__control:checked~label.sk-toggleable__label {background-color: #d4ebff;}#sk-container-id-2 input.sk-hidden--visually {border: 0;clip: rect(1px 1px 1px 1px);clip: rect(1px, 1px, 1px, 1px);height: 1px;margin: -1px;overflow: hidden;padding: 0;position: absolute;width: 1px;}#sk-container-id-2 div.sk-estimator {font-family: monospace;background-color: #f0f8ff;border: 1px dotted black;border-radius: 0.25em;box-sizing: border-box;margin-bottom: 0.5em;}#sk-container-id-2 div.sk-estimator:hover {background-color: #d4ebff;}#sk-container-id-2 div.sk-parallel-item::after {content: \"\";width: 100%;border-bottom: 1px solid gray;flex-grow: 1;}#sk-container-id-2 div.sk-label:hover label.sk-toggleable__label {background-color: #d4ebff;}#sk-container-id-2 div.sk-serial::before {content: \"\";position: absolute;border-left: 1px solid gray;box-sizing: border-box;top: 0;bottom: 0;left: 50%;z-index: 0;}#sk-container-id-2 div.sk-serial {display: flex;flex-direction: column;align-items: center;background-color: white;padding-right: 0.2em;padding-left: 0.2em;position: relative;}#sk-container-id-2 div.sk-item {position: relative;z-index: 1;}#sk-container-id-2 div.sk-parallel {display: flex;align-items: stretch;justify-content: center;background-color: white;position: relative;}#sk-container-id-2 div.sk-item::before, #sk-container-id-2 div.sk-parallel-item::before {content: \"\";position: absolute;border-left: 1px solid gray;box-sizing: border-box;top: 0;bottom: 0;left: 50%;z-index: -1;}#sk-container-id-2 div.sk-parallel-item {display: flex;flex-direction: column;z-index: 1;position: relative;background-color: white;}#sk-container-id-2 div.sk-parallel-item:first-child::after {align-self: flex-end;width: 50%;}#sk-container-id-2 div.sk-parallel-item:last-child::after {align-self: flex-start;width: 50%;}#sk-container-id-2 div.sk-parallel-item:only-child::after {width: 0;}#sk-container-id-2 div.sk-dashed-wrapped {border: 1px dashed gray;margin: 0 0.4em 0.5em 0.4em;box-sizing: border-box;padding-bottom: 0.4em;background-color: white;}#sk-container-id-2 div.sk-label label {font-family: monospace;font-weight: bold;display: inline-block;line-height: 1.2em;}#sk-container-id-2 div.sk-label-container {text-align: center;}#sk-container-id-2 div.sk-container {/* jupyter's `normalize.less` sets `[hidden] { display: none; }` but bootstrap.min.css set `[hidden] { display: none !important; }` so we also need the `!important` here to be able to override the default hidden behavior on the sphinx rendered scikit-learn.org. See: https://github.com/scikit-learn/scikit-learn/issues/21755 */display: inline-block !important;position: relative;}#sk-container-id-2 div.sk-text-repr-fallback {display: none;}</style><div id=\"sk-container-id-2\" class=\"sk-top-container\"><div class=\"sk-text-repr-fallback\"><pre>SVC(kernel=&#x27;linear&#x27;, random_state=0)</pre><b>In a Jupyter environment, please rerun this cell to show the HTML representation or trust the notebook. <br />On GitHub, the HTML representation is unable to render, please try loading this page with nbviewer.org.</b></div><div class=\"sk-container\" hidden><div class=\"sk-item\"><div class=\"sk-estimator sk-toggleable\"><input class=\"sk-toggleable__control sk-hidden--visually\" id=\"sk-estimator-id-2\" type=\"checkbox\" checked><label for=\"sk-estimator-id-2\" class=\"sk-toggleable__label sk-toggleable__label-arrow\">SVC</label><div class=\"sk-toggleable__content\"><pre>SVC(kernel=&#x27;linear&#x27;, random_state=0)</pre></div></div></div></div></div>"
            ]
          },
          "metadata": {},
          "execution_count": 25
        }
      ]
    },
    {
      "cell_type": "code",
      "source": [
        "# Prediksi data\n",
        "y_pred = classifier.predict(X_test)"
      ],
      "metadata": {
        "id": "f-6HfPcA2CI6"
      },
      "execution_count": 26,
      "outputs": []
    },
    {
      "cell_type": "markdown",
      "source": [
        "## Evaluation"
      ],
      "metadata": {
        "id": "U-K4QUk02HKN"
      }
    },
    {
      "cell_type": "code",
      "source": [
        "# Mengevaluasi model menggunakan metode cross validation score\n",
        "# Evaluasi hasil modeling\n",
        "scores = cross_val_score(classifier, X_train, y_train, cv=10)"
      ],
      "metadata": {
        "id": "e2-QoFzi2KU-"
      },
      "execution_count": 27,
      "outputs": []
    },
    {
      "cell_type": "code",
      "source": [
        "cm = confusion_matrix(y_test, y_pred)\n",
        "print(cm)"
      ],
      "metadata": {
        "colab": {
          "base_uri": "https://localhost:8080/"
        },
        "id": "IUYqB8qc2NjI",
        "outputId": "803ed6ee-0e8d-4bb2-b60d-1cba515ae45b"
      },
      "execution_count": 28,
      "outputs": [
        {
          "output_type": "stream",
          "name": "stdout",
          "text": [
            "[[11  0  0]\n",
            " [ 0 13  0]\n",
            " [ 0  0  6]]\n"
          ]
        }
      ]
    },
    {
      "cell_type": "code",
      "source": [
        "print('Accuracy: ', round(scores.mean(), 2)*100, '%')\n",
        "print('Standard Deviation: +/-', scores.std())"
      ],
      "metadata": {
        "colab": {
          "base_uri": "https://localhost:8080/"
        },
        "id": "L3YCjO3F2REq",
        "outputId": "08554a13-d826-48ea-ba71-827039730478"
      },
      "execution_count": 29,
      "outputs": [
        {
          "output_type": "stream",
          "name": "stdout",
          "text": [
            "Accuracy:  96.0 %\n",
            "Standard Deviation: +/- 0.05590169943749474\n"
          ]
        }
      ]
    },
    {
      "cell_type": "markdown",
      "source": [
        "Selain mengevaluasi hasil modeling /training data, kita juga perlu mengevaluasi data uji dimana ketika menggunakan kfold data train dan data test di shuffle untuk setiap iterasi lalu dirata-ratakan keseluruhannya\n",
        "\n",
        "![Screenshot 2023-05-26 151141.png](data:image/png;base64,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)"
      ],
      "metadata": {
        "id": "PTdZ26HI2YnY"
      }
    },
    {
      "cell_type": "code",
      "source": [
        "scores2 = cross_val_score(classifier, X, y, cv=10)\n",
        "print('Accuracy: ', round(scores2.mean(), 2)*100, '%')\n",
        "print('Standard Deviation: +/-', scores2.std())"
      ],
      "metadata": {
        "colab": {
          "base_uri": "https://localhost:8080/"
        },
        "id": "IKdC4EPx2fSL",
        "outputId": "07cc6c44-e073-4e40-a471-881e39e9dd22"
      },
      "execution_count": 30,
      "outputs": [
        {
          "output_type": "stream",
          "name": "stdout",
          "text": [
            "Accuracy:  97.0 %\n",
            "Standard Deviation: +/- 0.04422166387140532\n"
          ]
        }
      ]
    }
  ]
}